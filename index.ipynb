{
 "cells": [
  {
   "cell_type": "code",
   "execution_count": null,
   "metadata": {},
   "outputs": [],
   "source": [
    "#hide"
   ]
  },
  {
   "cell_type": "markdown",
   "metadata": {},
   "source": [
    "# Birdsong Recognition\n",
    "\n",
    "- The idea for this projec is to build a small webapp so that one can record bird songs/calls on the phone and have a trained model predict what bird it is. I'm hoping to use this to get quick feedback as I learn more about bird calls in my neighbourhood.\n",
    "\n",
    "- I'm also trying out nbdev to see how useful it can be."
   ]
  },
  {
   "cell_type": "code",
   "execution_count": null,
   "metadata": {},
   "outputs": [],
   "source": []
  }
 ],
 "metadata": {
  "kernelspec": {
   "display_name": "Python 3",
   "language": "python",
   "name": "python3"
  }
 },
 "nbformat": 4,
 "nbformat_minor": 4
}
